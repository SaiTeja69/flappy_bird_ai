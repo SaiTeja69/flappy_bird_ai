{
 "cells": [
  {
   "cell_type": "code",
   "execution_count": 2,
   "metadata": {},
   "outputs": [],
   "source": [
    "import pygame\n",
    "import neat\n",
    "import time\n",
    "import os\n",
    "import random\n",
    "WIDTH=600\n",
    "HEIGHT=800\n",
    "IMGS=[pygame.transform.scale2x(pygame.image.load(os.path.join(\"imgs\",\"bird1.png\"))),pygame.transform.scale2x(pygame.image.load(os.path.join(\"imgs\",\"bird2.png\"))),pygame.transform.scale2x(pygame.image.load(os.path.join(\"imgs\",\"bird3.png\")))]\n",
    "PIPE=pygame.transform.scale2x(pygame.image.load(os.path.join(\"imgs\",\"pipe.png\")))\n",
    "BASE=pygame.transform.scale2x(pygame.image.load(os.path.join(\"imgs\",\"base.png\")))\n",
    "BG=pygame.transform.scale2x(pygame.image.load(os.path.join(\"imgs\",\"bg.png\")))"
   ]
  },
  {
   "cell_type": "code",
   "execution_count": 3,
   "metadata": {},
   "outputs": [],
   "source": [
    "\n",
    "\tdef __init__(self,x,y):\n",
    "\t\tself.x=x\n",
    "\t\tself.y=y\n",
    "\t\tself.tilt=0\n",
    "\t\tself.tick_count=0\n",
    "\t\tself.vel=0\n",
    "\t\tself.height=y\n",
    "\t\tself.img_count=0\n",
    "\t\tself.img=self.IMGS[0]\n",
    "\n",
    "\tdef jump(self):\n",
    "\t\tself.vel=-10.5\n",
    "\t\tself.tick_count=0\n",
    "\t\tself.height=self.y\n",
    "\n",
    "\tdef move(self):\n",
    "\t\tself.tick_count+=1\n",
    "\t\td=self.vel*self.tick_count+1.5*self.tick_count**2\n",
    "\t\tif(d>=16):\n",
    "\t\t\td= 16\n",
    "\t\tif(d<0):\n",
    "\t\t\td-=2\n",
    "\t\tself.y=self.y+d\n",
    "\t\tif (d<0 or self.y <self.height +50):\n",
    "\t\t\tif self.tilt< self.MAX_ROTATION:\n",
    "\t\t\t\tself.tilt=self.MAX_ROTATION\n",
    "\t\telse:\n",
    "\t\t\tif self.tilt > -90:\n",
    "\t\t\t\tself.titl -= self.VEL\n",
    "\t\t"
   ]
  },
  {
   "cell_type": "code",
   "execution_count": 9,
   "metadata": {},
   "outputs": [
    {
     "ename": "IndentationError",
     "evalue": "expected an indented block (<ipython-input-9-30034a72dc8c>, line 25)",
     "output_type": "error",
     "traceback": [
      "\u001b[1;36m  File \u001b[1;32m\"<ipython-input-9-30034a72dc8c>\"\u001b[1;36m, line \u001b[1;32m25\u001b[0m\n\u001b[1;33m    win.blit(BD_BG,(0,0))\u001b[0m\n\u001b[1;37m      ^\u001b[0m\n\u001b[1;31mIndentationError\u001b[0m\u001b[1;31m:\u001b[0m expected an indented block\n"
     ]
    }
   ],
   "source": [
    "\tdef draw(self,win):\n",
    "\t\tself.img_count+=1\n",
    "\t\tif(self.img_count < self.AT_TIME):\n",
    "\t\t\tself.img=self.IMGS[0]\n",
    "\t\telif self.img_count < self.AT_TIME*2:\n",
    "\t\t\tself.img=self.IMGS[1]\n",
    "\t\telif self.img_count < self.AT_TIME*3:\n",
    "\t\t\tself.img=self.IMGS[2]\n",
    "\t\telif self.img_count < self.AT_TIME*4:\n",
    "\t\t\tself.img=self.IMGS[1]\n",
    "\t\telif self.img_count < self.AT_TIME*4+1:\n",
    "\t\t\tself.img=self.IMGS[0]\n",
    "\t\t\tself.img_count=0\n",
    "\t\tif self.tilt <= -80:\n",
    "\t\t\tself.img=self.IMGS[1]\n",
    "\t\t\tself.img_count=self.AT_TIME*2\n",
    "\n",
    "\t\trotated_image=pygame.transform.rotate(self.img , self.tilt)\n",
    "\t\tnew_rect=rotated_image.get_rect(center=self.img.get_rect(topleft=(self.x,self.y)).center)\n",
    "\t\twin.blit(rotated_image,new_rect.topleft)\n",
    "\tdef get_mask(self):\n",
    "\t\treturn pygame.mask.from_surface(self.img)\n",
    "\n",
    "def window(win,bird):\n",
    "\twin.blit(BD_BG,(0,0))\n",
    "\tbird.draw(win)\n",
    "\tpygame.display.update()\n",
    "\n",
    "def main():\n",
    "\tbird=Bird(200,200)\n",
    "\twin=pygame.display.set_mode(WIDTH,HEIGHT)\n",
    "\trun=True\n",
    "\twhile run:\n",
    "\t\tfor event in pygame.event.get():\n",
    "\t\t\tif event.type==pygame.QUIT:\n",
    "\t\t\t\trun=False\n",
    "\n",
    "\t\t\twindow(win,bird)\n",
    "\tpygame.quit()\n",
    "\tquit()\n",
    "\n",
    "main()"
   ]
  },
  {
   "cell_type": "code",
   "execution_count": null,
   "metadata": {},
   "outputs": [],
   "source": []
  },
  {
   "cell_type": "code",
   "execution_count": null,
   "metadata": {},
   "outputs": [],
   "source": []
  }
 ],
 "metadata": {
  "kernelspec": {
   "display_name": "Python 3",
   "language": "python",
   "name": "python3"
  },
  "language_info": {
   "codemirror_mode": {
    "name": "ipython",
    "version": 3
   },
   "file_extension": ".py",
   "mimetype": "text/x-python",
   "name": "python",
   "nbconvert_exporter": "python",
   "pygments_lexer": "ipython3",
   "version": "3.7.4"
  }
 },
 "nbformat": 4,
 "nbformat_minor": 2
}
